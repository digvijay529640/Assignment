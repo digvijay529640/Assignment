{
 "cells": [
  {
   "cell_type": "markdown",
   "metadata": {},
   "source": [
    "## Python Assignment 4"
   ]
  },
  {
   "cell_type": "markdown",
   "metadata": {},
   "source": [
    "# Program 1.1"
   ]
  },
  {
   "cell_type": "code",
   "execution_count": 75,
   "metadata": {},
   "outputs": [
    {
     "name": "stdout",
     "output_type": "stream",
     "text": [
      "Please Enter first side of Triangle =2\n",
      "Please Enter second side of Triangle =3\n",
      "Please Enter third side of Triangle =4\n",
      "Area of triangle is =  2.9047375096555625\n"
     ]
    }
   ],
   "source": [
    "a=float(input(\"Please Enter first side of Triangle =\"))\n",
    "b=float(input(\"Please Enter second side of Triangle =\"))\n",
    "c=float(input(\"Please Enter third side of Triangle =\"))\n",
    "class parent:\n",
    "    def __init__(self,a,b,c):\n",
    "        self.a=float(a)\n",
    "        self.b=float(b)\n",
    "        self.c=float(c)\n",
    "\n",
    "class triangle(parent):\n",
    "    def __init__(self,a,b,c):\n",
    "        super().__init__(a,b,c)\n",
    "\n",
    "    def get_area(self):\n",
    "        s = (a + b + c) / 2\n",
    "        return (s*(s-a)*(s-b)*(s-c)) ** 0.5     \n",
    "t=triangle(a,b,c)\n",
    "print(\"Area of triangle is = \",t.get_area())\n",
    "   "
   ]
  },
  {
   "cell_type": "markdown",
   "metadata": {},
   "source": [
    "# Program 1.2"
   ]
  },
  {
   "cell_type": "code",
   "execution_count": 47,
   "metadata": {},
   "outputs": [
    {
     "name": "stdout",
     "output_type": "stream",
     "text": [
      "Please enter the no\n",
      "1\n",
      "['fgjhhgfw', 'qi7etykxcvah', 'sdf', 'fa', 'efszc', 'xvuydrqdxvh']\n"
     ]
    }
   ],
   "source": [
    "def filter_long_words(l,n):\n",
    "    final=[]\n",
    "    for i in l:\n",
    "        if len(i)>n:\n",
    "            final.append(i)\n",
    "        else:\n",
    "            continue\n",
    "    return final\n",
    "my_list=[\"fgjhhgfw\",\"qi7etykxcvah\",\"sdf\",\"fa\",\"\",\"efszc\",\"xvuydrqdxvh\"]\n",
    "n=int(input(\"Please enter the no\\n\"))\n",
    "print(filter_long_words(my_list,n))\n",
    "            \n",
    "    "
   ]
  },
  {
   "cell_type": "markdown",
   "metadata": {},
   "source": [
    "# Program2.1"
   ]
  },
  {
   "cell_type": "code",
   "execution_count": 40,
   "metadata": {},
   "outputs": [
    {
     "name": "stdout",
     "output_type": "stream",
     "text": [
      "[3, 4, 4, 7, 0, 9]\n"
     ]
    }
   ],
   "source": [
    "def convert(l):\n",
    "    final=[]\n",
    "    for n in range(len(l)):\n",
    "        final.append(len(l[n]))\n",
    "    return final\n",
    "my_list=[\"edf\",\"rqew\",\"asg1\",'2543245','','2423fgsy7']\n",
    "print(convert(my_list))\n",
    "\n",
    "        \n",
    "        "
   ]
  },
  {
   "cell_type": "markdown",
   "metadata": {},
   "source": [
    "# Program 2.2"
   ]
  },
  {
   "cell_type": "code",
   "execution_count": 23,
   "metadata": {},
   "outputs": [
    {
     "name": "stdout",
     "output_type": "stream",
     "text": [
      "Please Enter a char\n",
      "A\n",
      "True\n"
     ]
    }
   ],
   "source": [
    "def my_fun(s):\n",
    "    v=['a','e','i','o','u']\n",
    "    s=s.lower()\n",
    "    if s in v:\n",
    "        return True\n",
    "    else:\n",
    "        return False           \n",
    "while True:\n",
    "    my_input=input(\"Please Enter a char\\n\")\n",
    "    if len(my_input)==1:\n",
    "        break\n",
    "    print(\"Please enter single Char as input\")\n",
    "       \n",
    "print(my_fun(my_input))"
   ]
  },
  {
   "cell_type": "code",
   "execution_count": null,
   "metadata": {},
   "outputs": [],
   "source": []
  }
 ],
 "metadata": {
  "kernelspec": {
   "display_name": "Python 3",
   "language": "python",
   "name": "python3"
  },
  "language_info": {
   "codemirror_mode": {
    "name": "ipython",
    "version": 3
   },
   "file_extension": ".py",
   "mimetype": "text/x-python",
   "name": "python",
   "nbconvert_exporter": "python",
   "pygments_lexer": "ipython3",
   "version": "3.8.5"
  }
 },
 "nbformat": 4,
 "nbformat_minor": 4
}
